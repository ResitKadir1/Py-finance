{
 "cells": [
  {
   "cell_type": "code",
   "execution_count": 1,
   "id": "a3d93db7",
   "metadata": {},
   "outputs": [],
   "source": [
    "#!pip install numpy_financial"
   ]
  },
  {
   "cell_type": "code",
   "execution_count": 2,
   "id": "7f192f3a",
   "metadata": {},
   "outputs": [
    {
     "data": {
      "text/plain": [
       "'\\nFill in the blanks to calculate the future value of investing $1 for 20 years.\\nEach year the investment doubles in value (100% interest).\\n'"
      ]
     },
     "execution_count": 2,
     "metadata": {},
     "output_type": "execute_result"
    }
   ],
   "source": [
    "\"\"\"\n",
    "Fill in the blanks to calculate the future value of investing $1 for 20 years.\n",
    "Each year the investment doubles in value (100% interest).\n",
    "\"\"\""
   ]
  },
  {
   "cell_type": "code",
   "execution_count": 3,
   "id": "67cac301",
   "metadata": {},
   "outputs": [
    {
     "data": {
      "text/plain": [
       "1048576.0"
      ]
     },
     "execution_count": 3,
     "metadata": {},
     "output_type": "execute_result"
    }
   ],
   "source": [
    "import numpy_financial as npf\n",
    "\n",
    "res = npf.fv(rate=1, nper=20, pmt=0, pv= -1)\n",
    "res"
   ]
  },
  {
   "cell_type": "markdown",
   "id": "d2288c8e",
   "metadata": {},
   "source": [
    "# ----"
   ]
  },
  {
   "cell_type": "code",
   "execution_count": 4,
   "id": "44a960b6",
   "metadata": {},
   "outputs": [
    {
     "name": "stdout",
     "output_type": "stream",
     "text": [
      "200.0\n"
     ]
    }
   ],
   "source": [
    "import numpy_financial as npf\n",
    "res = npf.fv(rate=1, nper=1, pmt=0, pv=-100)\n",
    "print(res)"
   ]
  },
  {
   "cell_type": "markdown",
   "id": "16e3f970",
   "metadata": {},
   "source": [
    "#### --We already saw the fv() function in action, which stands for future value.\n",
    "### Similarly, the pv() function is used to calculate the present value of an investment.\n",
    "For example, let's calculate the present value of an investment, that needs to total 1000 in 8 years, with an annual interest rate of 10%:"
   ]
  },
  {
   "cell_type": "code",
   "execution_count": 7,
   "id": "575cc951",
   "metadata": {},
   "outputs": [
    {
     "data": {
      "text/plain": [
       "-466.50738020973307"
      ]
     },
     "execution_count": 7,
     "metadata": {},
     "output_type": "execute_result"
    }
   ],
   "source": [
    "#https://numpy.org/numpy-financial/dev/pv.html\n",
    "npf.pv(rate=0.10, nper = 8,pmt=0 ,fv=1000)"
   ]
  },
  {
   "cell_type": "markdown",
   "id": "21313def",
   "metadata": {},
   "source": [
    "# Q-\n",
    "Fill in the blanks to calculate the amount you need to invest annually for 15 years at an interest rate of 7%, to result in a total amount of 150000."
   ]
  },
  {
   "cell_type": "code",
   "execution_count": 8,
   "id": "d0f2070b",
   "metadata": {},
   "outputs": [
    {
     "data": {
      "text/plain": [
       "-54366.90294635392"
      ]
     },
     "execution_count": 8,
     "metadata": {},
     "output_type": "execute_result"
    }
   ],
   "source": [
    "npf.pv(rate= 0.07, nper=15, pmt=0, fv=150000)"
   ]
  },
  {
   "cell_type": "markdown",
   "id": "69ca5c49",
   "metadata": {},
   "source": [
    "# -------------------------------------------------------------- #"
   ]
  },
  {
   "cell_type": "markdown",
   "id": "5500198b",
   "metadata": {},
   "source": [
    "# Monthly Loan Payments\n",
    "The <span style=\"color:orange\">pmt()</span> function is used to compute the payment against loan principal plus interest.\n"
   ]
  },
  {
   "cell_type": "markdown",
   "id": "67dcca7c",
   "metadata": {},
   "source": [
    "### Q-1\n",
    "\n",
    "<span style=\"color:green\">Let's say we want to calculate how much we have to pay monthly to pay back a loan of 100,000 in 5 years. The yearly interest rate is 7%, and is calculated monthly.</span>"
   ]
  },
  {
   "cell_type": "code",
   "execution_count": 9,
   "id": "910f77ee",
   "metadata": {},
   "outputs": [
    {
     "data": {
      "text/plain": [
       "-1980.1198540349467"
      ]
     },
     "execution_count": 9,
     "metadata": {},
     "output_type": "execute_result"
    }
   ],
   "source": [
    "npf.pmt(rate=0.07/12,nper = 5*12 ,pv = 100_000 ,fv = 0)"
   ]
  },
  {
   "cell_type": "markdown",
   "id": "254c6ae3",
   "metadata": {},
   "source": [
    "As we need to calculate monthly payments, we set the rate and periods <span style=\"color:red\">(nper) in months</span>. The <span style=\"color:red\">pv</span> parameter shows the present value of the loan, while the <span style=\"color:red\"> fv</span> shows the future value we want to achieve.\n"
   ]
  },
  {
   "cell_type": "markdown",
   "id": "4d95bee0",
   "metadata": {},
   "source": [
    "### pmt()\n",
    "\n",
    "\n",
    "Note that aside from computing a monthly mortgage payment, <span style=\"color:red\">the pmt()</span> function can be used to return the periodic deposit one must make to achieve a specified future balance with a given interest rate."
   ]
  },
  {
   "cell_type": "markdown",
   "id": "ab0101e4",
   "metadata": {},
   "source": [
    "### Q-2 \n",
    "#### The code will return the monthly deposits needed to achieve 50000 in 5 years with 10% annual interest."
   ]
  },
  {
   "cell_type": "code",
   "execution_count": 10,
   "id": "c48fe8be",
   "metadata": {},
   "outputs": [
    {
     "name": "stdout",
     "output_type": "stream",
     "text": [
      "-645.6855688967499\n"
     ]
    }
   ],
   "source": [
    "import numpy_financial as npf\n",
    "res = npf.pmt(rate=0.10/12, nper=5*12, pv=0, fv=50000) \n",
    "print(res)\n"
   ]
  },
  {
   "cell_type": "code",
   "execution_count": null,
   "id": "7fdfc66a",
   "metadata": {},
   "outputs": [],
   "source": []
  }
 ],
 "metadata": {
  "kernelspec": {
   "display_name": "Python 3",
   "language": "python",
   "name": "python3"
  },
  "language_info": {
   "codemirror_mode": {
    "name": "ipython",
    "version": 3
   },
   "file_extension": ".py",
   "mimetype": "text/x-python",
   "name": "python",
   "nbconvert_exporter": "python",
   "pygments_lexer": "ipython3",
   "version": "3.8.8"
  }
 },
 "nbformat": 4,
 "nbformat_minor": 5
}
