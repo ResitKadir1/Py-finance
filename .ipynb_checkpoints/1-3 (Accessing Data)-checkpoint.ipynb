{
 "cells": [
  {
   "cell_type": "markdown",
   "id": "0ca292fa",
   "metadata": {},
   "source": [
    "<span style=\"color:orange\"> One example is the package called yfinance, which offers a convenient way to access data from Yahoo Finance.In the upcoming lessons we will learn how to access data from Yahoo Finance using scraping, as well as from the yfinance package</span>"
   ]
  },
  {
   "cell_type": "code",
   "execution_count": 8,
   "id": "e548b3f3",
   "metadata": {},
   "outputs": [
    {
     "name": "stdout",
     "output_type": "stream",
     "text": [
      "    Symbol             Security SEC filings             GICS Sector  \\\n",
      "0      MMM                   3M     reports             Industrials   \n",
      "1      ABT  Abbott Laboratories     reports             Health Care   \n",
      "2     ABBV               AbbVie     reports             Health Care   \n",
      "3     ABMD              Abiomed     reports             Health Care   \n",
      "4      ACN            Accenture     reports  Information Technology   \n",
      "..     ...                  ...         ...                     ...   \n",
      "500    YUM          Yum! Brands     reports  Consumer Discretionary   \n",
      "501   ZBRA   Zebra Technologies     reports  Information Technology   \n",
      "502    ZBH        Zimmer Biomet     reports             Health Care   \n",
      "503   ZION        Zions Bancorp     reports              Financials   \n",
      "504    ZTS               Zoetis     reports             Health Care   \n",
      "\n",
      "                      GICS Sub-Industry    Headquarters Location  \\\n",
      "0              Industrial Conglomerates    Saint Paul, Minnesota   \n",
      "1                 Health Care Equipment  North Chicago, Illinois   \n",
      "2                       Pharmaceuticals  North Chicago, Illinois   \n",
      "3                 Health Care Equipment   Danvers, Massachusetts   \n",
      "4        IT Consulting & Other Services          Dublin, Ireland   \n",
      "..                                  ...                      ...   \n",
      "500                         Restaurants     Louisville, Kentucky   \n",
      "501  Electronic Equipment & Instruments   Lincolnshire, Illinois   \n",
      "502               Health Care Equipment          Warsaw, Indiana   \n",
      "503                      Regional Banks     Salt Lake City, Utah   \n",
      "504                     Pharmaceuticals   Parsippany, New Jersey   \n",
      "\n",
      "    Date first added      CIK      Founded  \n",
      "0         1976-08-09    66740         1902  \n",
      "1         1964-03-31     1800         1888  \n",
      "2         2012-12-31  1551152  2013 (1888)  \n",
      "3         2018-05-31   815094         1981  \n",
      "4         2011-07-06  1467373         1989  \n",
      "..               ...      ...          ...  \n",
      "500       1997-10-06  1041061         1997  \n",
      "501       2019-12-23   877212         1969  \n",
      "502       2001-08-07  1136869         1927  \n",
      "503       2001-06-22   109380         1873  \n",
      "504       2013-06-21  1555280         1952  \n",
      "\n",
      "[505 rows x 9 columns]\n"
     ]
    }
   ],
   "source": [
    "import pandas as pd\n",
    "data = pd.read_html('https://en.wikipedia.org/wiki/List_of_S%26P_500_companies')\n",
    "df = data[0]\n",
    "print(df)"
   ]
  },
  {
   "cell_type": "code",
   "execution_count": 12,
   "id": "c28bcaf3",
   "metadata": {},
   "outputs": [
    {
     "name": "stdout",
     "output_type": "stream",
     "text": [
      "  Symbol             Security\n",
      "0    MMM                   3M\n",
      "1    ABT  Abbott Laboratories\n",
      "2   ABBV               AbbVie\n"
     ]
    }
   ],
   "source": [
    "import pandas as pd\n",
    "\n",
    "data = pd.read_html('https://en.wikipedia.org/wiki/List_of_S%26P_500_companies')\n",
    "df = data[0]\n",
    "\n",
    "df = df[['Symbol', 'Security']]\n",
    "print(df.head(3)) "
   ]
  },
  {
   "cell_type": "code",
   "execution_count": 13,
   "id": "f5f677c5",
   "metadata": {},
   "outputs": [
    {
     "name": "stdout",
     "output_type": "stream",
     "text": [
      "   Symbol Security\n",
      "44   AAPL    Apple\n"
     ]
    }
   ],
   "source": [
    "df = df[df['Security'] == 'Apple']\n",
    "print(df)"
   ]
  },
  {
   "cell_type": "code",
   "execution_count": 14,
   "id": "b00d37d0",
   "metadata": {},
   "outputs": [
    {
     "name": "stdout",
     "output_type": "stream",
     "text": [
      "<class 'pandas.core.frame.DataFrame'>\n",
      "Int64Index: 1 entries, 44 to 44\n",
      "Data columns (total 2 columns):\n",
      " #   Column    Non-Null Count  Dtype \n",
      "---  ------    --------------  ----- \n",
      " 0   Symbol    1 non-null      object\n",
      " 1   Security  1 non-null      object\n",
      "dtypes: object(2)\n",
      "memory usage: 24.0+ bytes\n"
     ]
    }
   ],
   "source": [
    "df.info()"
   ]
  },
  {
   "cell_type": "markdown",
   "id": "7075a349",
   "metadata": {},
   "source": [
    "## YAHOO\n",
    "Let's head to Yahoo Finance, which provides data on companies, their financial performance and profile.\n",
    "\n",
    "For example, here is Tesla's profile page: https://finance.yahoo.com/quote/TSLA/profile\n",
    "\n",
    "The first table is a list of Key Executives. Let's scrape it into a DataFrame:"
   ]
  },
  {
   "cell_type": "code",
   "execution_count": 16,
   "id": "49adb61d",
   "metadata": {},
   "outputs": [
    {
     "ename": "HTTPError",
     "evalue": "HTTP Error 404: Not Found",
     "output_type": "error",
     "traceback": [
      "\u001b[0;31m---------------------------------------------------------------------------\u001b[0m",
      "\u001b[0;31mHTTPError\u001b[0m                                 Traceback (most recent call last)",
      "\u001b[0;32m<ipython-input-16-5c3627975956>\u001b[0m in \u001b[0;36m<module>\u001b[0;34m\u001b[0m\n\u001b[1;32m      1\u001b[0m \u001b[0;31m#ERROR\u001b[0m\u001b[0;34m\u001b[0m\u001b[0;34m\u001b[0m\u001b[0;34m\u001b[0m\u001b[0m\n\u001b[0;32m----> 2\u001b[0;31m \u001b[0myahoo\u001b[0m \u001b[0;34m=\u001b[0m \u001b[0mpd\u001b[0m\u001b[0;34m.\u001b[0m\u001b[0mread_html\u001b[0m\u001b[0;34m(\u001b[0m\u001b[0;34m'https://finance.yahoo.com/quote/TSLA/profile'\u001b[0m\u001b[0;34m)\u001b[0m\u001b[0;34m\u001b[0m\u001b[0;34m\u001b[0m\u001b[0m\n\u001b[0m\u001b[1;32m      3\u001b[0m \u001b[0myahoo\u001b[0m\u001b[0;34m\u001b[0m\u001b[0;34m\u001b[0m\u001b[0m\n",
      "\u001b[0;32m/opt/anaconda3/lib/python3.8/site-packages/pandas/util/_decorators.py\u001b[0m in \u001b[0;36mwrapper\u001b[0;34m(*args, **kwargs)\u001b[0m\n\u001b[1;32m    309\u001b[0m                     \u001b[0mstacklevel\u001b[0m\u001b[0;34m=\u001b[0m\u001b[0mstacklevel\u001b[0m\u001b[0;34m,\u001b[0m\u001b[0;34m\u001b[0m\u001b[0;34m\u001b[0m\u001b[0m\n\u001b[1;32m    310\u001b[0m                 )\n\u001b[0;32m--> 311\u001b[0;31m             \u001b[0;32mreturn\u001b[0m \u001b[0mfunc\u001b[0m\u001b[0;34m(\u001b[0m\u001b[0;34m*\u001b[0m\u001b[0margs\u001b[0m\u001b[0;34m,\u001b[0m \u001b[0;34m**\u001b[0m\u001b[0mkwargs\u001b[0m\u001b[0;34m)\u001b[0m\u001b[0;34m\u001b[0m\u001b[0;34m\u001b[0m\u001b[0m\n\u001b[0m\u001b[1;32m    312\u001b[0m \u001b[0;34m\u001b[0m\u001b[0m\n\u001b[1;32m    313\u001b[0m         \u001b[0;32mreturn\u001b[0m \u001b[0mwrapper\u001b[0m\u001b[0;34m\u001b[0m\u001b[0;34m\u001b[0m\u001b[0m\n",
      "\u001b[0;32m/opt/anaconda3/lib/python3.8/site-packages/pandas/io/html.py\u001b[0m in \u001b[0;36mread_html\u001b[0;34m(io, match, flavor, header, index_col, skiprows, attrs, parse_dates, thousands, encoding, decimal, converters, na_values, keep_default_na, displayed_only)\u001b[0m\n\u001b[1;32m   1096\u001b[0m     \u001b[0mio\u001b[0m \u001b[0;34m=\u001b[0m \u001b[0mstringify_path\u001b[0m\u001b[0;34m(\u001b[0m\u001b[0mio\u001b[0m\u001b[0;34m)\u001b[0m\u001b[0;34m\u001b[0m\u001b[0;34m\u001b[0m\u001b[0m\n\u001b[1;32m   1097\u001b[0m \u001b[0;34m\u001b[0m\u001b[0m\n\u001b[0;32m-> 1098\u001b[0;31m     return _parse(\n\u001b[0m\u001b[1;32m   1099\u001b[0m         \u001b[0mflavor\u001b[0m\u001b[0;34m=\u001b[0m\u001b[0mflavor\u001b[0m\u001b[0;34m,\u001b[0m\u001b[0;34m\u001b[0m\u001b[0;34m\u001b[0m\u001b[0m\n\u001b[1;32m   1100\u001b[0m         \u001b[0mio\u001b[0m\u001b[0;34m=\u001b[0m\u001b[0mio\u001b[0m\u001b[0;34m,\u001b[0m\u001b[0;34m\u001b[0m\u001b[0;34m\u001b[0m\u001b[0m\n",
      "\u001b[0;32m/opt/anaconda3/lib/python3.8/site-packages/pandas/io/html.py\u001b[0m in \u001b[0;36m_parse\u001b[0;34m(flavor, io, match, attrs, encoding, displayed_only, **kwargs)\u001b[0m\n\u001b[1;32m    904\u001b[0m \u001b[0;34m\u001b[0m\u001b[0m\n\u001b[1;32m    905\u001b[0m         \u001b[0;32mtry\u001b[0m\u001b[0;34m:\u001b[0m\u001b[0;34m\u001b[0m\u001b[0;34m\u001b[0m\u001b[0m\n\u001b[0;32m--> 906\u001b[0;31m             \u001b[0mtables\u001b[0m \u001b[0;34m=\u001b[0m \u001b[0mp\u001b[0m\u001b[0;34m.\u001b[0m\u001b[0mparse_tables\u001b[0m\u001b[0;34m(\u001b[0m\u001b[0;34m)\u001b[0m\u001b[0;34m\u001b[0m\u001b[0;34m\u001b[0m\u001b[0m\n\u001b[0m\u001b[1;32m    907\u001b[0m         \u001b[0;32mexcept\u001b[0m \u001b[0mValueError\u001b[0m \u001b[0;32mas\u001b[0m \u001b[0mcaught\u001b[0m\u001b[0;34m:\u001b[0m\u001b[0;34m\u001b[0m\u001b[0;34m\u001b[0m\u001b[0m\n\u001b[1;32m    908\u001b[0m             \u001b[0;31m# if `io` is an io-like object, check if it's seekable\u001b[0m\u001b[0;34m\u001b[0m\u001b[0;34m\u001b[0m\u001b[0;34m\u001b[0m\u001b[0m\n",
      "\u001b[0;32m/opt/anaconda3/lib/python3.8/site-packages/pandas/io/html.py\u001b[0m in \u001b[0;36mparse_tables\u001b[0;34m(self)\u001b[0m\n\u001b[1;32m    220\u001b[0m         \u001b[0mlist\u001b[0m \u001b[0mof\u001b[0m \u001b[0mparsed\u001b[0m \u001b[0;34m(\u001b[0m\u001b[0mheader\u001b[0m\u001b[0;34m,\u001b[0m \u001b[0mbody\u001b[0m\u001b[0;34m,\u001b[0m \u001b[0mfooter\u001b[0m\u001b[0;34m)\u001b[0m \u001b[0mtuples\u001b[0m \u001b[0;32mfrom\u001b[0m \u001b[0mtables\u001b[0m\u001b[0;34m.\u001b[0m\u001b[0;34m\u001b[0m\u001b[0;34m\u001b[0m\u001b[0m\n\u001b[1;32m    221\u001b[0m         \"\"\"\n\u001b[0;32m--> 222\u001b[0;31m         \u001b[0mtables\u001b[0m \u001b[0;34m=\u001b[0m \u001b[0mself\u001b[0m\u001b[0;34m.\u001b[0m\u001b[0m_parse_tables\u001b[0m\u001b[0;34m(\u001b[0m\u001b[0mself\u001b[0m\u001b[0;34m.\u001b[0m\u001b[0m_build_doc\u001b[0m\u001b[0;34m(\u001b[0m\u001b[0;34m)\u001b[0m\u001b[0;34m,\u001b[0m \u001b[0mself\u001b[0m\u001b[0;34m.\u001b[0m\u001b[0mmatch\u001b[0m\u001b[0;34m,\u001b[0m \u001b[0mself\u001b[0m\u001b[0;34m.\u001b[0m\u001b[0mattrs\u001b[0m\u001b[0;34m)\u001b[0m\u001b[0;34m\u001b[0m\u001b[0;34m\u001b[0m\u001b[0m\n\u001b[0m\u001b[1;32m    223\u001b[0m         \u001b[0;32mreturn\u001b[0m \u001b[0;34m(\u001b[0m\u001b[0mself\u001b[0m\u001b[0;34m.\u001b[0m\u001b[0m_parse_thead_tbody_tfoot\u001b[0m\u001b[0;34m(\u001b[0m\u001b[0mtable\u001b[0m\u001b[0;34m)\u001b[0m \u001b[0;32mfor\u001b[0m \u001b[0mtable\u001b[0m \u001b[0;32min\u001b[0m \u001b[0mtables\u001b[0m\u001b[0;34m)\u001b[0m\u001b[0;34m\u001b[0m\u001b[0;34m\u001b[0m\u001b[0m\n\u001b[1;32m    224\u001b[0m \u001b[0;34m\u001b[0m\u001b[0m\n",
      "\u001b[0;32m/opt/anaconda3/lib/python3.8/site-packages/pandas/io/html.py\u001b[0m in \u001b[0;36m_build_doc\u001b[0;34m(self)\u001b[0m\n\u001b[1;32m    743\u001b[0m                     \u001b[0;32mpass\u001b[0m\u001b[0;34m\u001b[0m\u001b[0;34m\u001b[0m\u001b[0m\n\u001b[1;32m    744\u001b[0m             \u001b[0;32melse\u001b[0m\u001b[0;34m:\u001b[0m\u001b[0;34m\u001b[0m\u001b[0;34m\u001b[0m\u001b[0m\n\u001b[0;32m--> 745\u001b[0;31m                 \u001b[0;32mraise\u001b[0m \u001b[0me\u001b[0m\u001b[0;34m\u001b[0m\u001b[0;34m\u001b[0m\u001b[0m\n\u001b[0m\u001b[1;32m    746\u001b[0m         \u001b[0;32melse\u001b[0m\u001b[0;34m:\u001b[0m\u001b[0;34m\u001b[0m\u001b[0;34m\u001b[0m\u001b[0m\n\u001b[1;32m    747\u001b[0m             \u001b[0;32mif\u001b[0m \u001b[0;32mnot\u001b[0m \u001b[0mhasattr\u001b[0m\u001b[0;34m(\u001b[0m\u001b[0mr\u001b[0m\u001b[0;34m,\u001b[0m \u001b[0;34m\"text_content\"\u001b[0m\u001b[0;34m)\u001b[0m\u001b[0;34m:\u001b[0m\u001b[0;34m\u001b[0m\u001b[0;34m\u001b[0m\u001b[0m\n",
      "\u001b[0;32m/opt/anaconda3/lib/python3.8/site-packages/pandas/io/html.py\u001b[0m in \u001b[0;36m_build_doc\u001b[0;34m(self)\u001b[0m\n\u001b[1;32m    724\u001b[0m         \u001b[0;32mtry\u001b[0m\u001b[0;34m:\u001b[0m\u001b[0;34m\u001b[0m\u001b[0;34m\u001b[0m\u001b[0m\n\u001b[1;32m    725\u001b[0m             \u001b[0;32mif\u001b[0m \u001b[0mis_url\u001b[0m\u001b[0;34m(\u001b[0m\u001b[0mself\u001b[0m\u001b[0;34m.\u001b[0m\u001b[0mio\u001b[0m\u001b[0;34m)\u001b[0m\u001b[0;34m:\u001b[0m\u001b[0;34m\u001b[0m\u001b[0;34m\u001b[0m\u001b[0m\n\u001b[0;32m--> 726\u001b[0;31m                 \u001b[0;32mwith\u001b[0m \u001b[0murlopen\u001b[0m\u001b[0;34m(\u001b[0m\u001b[0mself\u001b[0m\u001b[0;34m.\u001b[0m\u001b[0mio\u001b[0m\u001b[0;34m)\u001b[0m \u001b[0;32mas\u001b[0m \u001b[0mf\u001b[0m\u001b[0;34m:\u001b[0m\u001b[0;34m\u001b[0m\u001b[0;34m\u001b[0m\u001b[0m\n\u001b[0m\u001b[1;32m    727\u001b[0m                     \u001b[0mr\u001b[0m \u001b[0;34m=\u001b[0m \u001b[0mparse\u001b[0m\u001b[0;34m(\u001b[0m\u001b[0mf\u001b[0m\u001b[0;34m,\u001b[0m \u001b[0mparser\u001b[0m\u001b[0;34m=\u001b[0m\u001b[0mparser\u001b[0m\u001b[0;34m)\u001b[0m\u001b[0;34m\u001b[0m\u001b[0;34m\u001b[0m\u001b[0m\n\u001b[1;32m    728\u001b[0m             \u001b[0;32melse\u001b[0m\u001b[0;34m:\u001b[0m\u001b[0;34m\u001b[0m\u001b[0;34m\u001b[0m\u001b[0m\n",
      "\u001b[0;32m/opt/anaconda3/lib/python3.8/site-packages/pandas/io/common.py\u001b[0m in \u001b[0;36murlopen\u001b[0;34m(*args, **kwargs)\u001b[0m\n\u001b[1;32m    210\u001b[0m     \u001b[0;32mimport\u001b[0m \u001b[0murllib\u001b[0m\u001b[0;34m.\u001b[0m\u001b[0mrequest\u001b[0m\u001b[0;34m\u001b[0m\u001b[0;34m\u001b[0m\u001b[0m\n\u001b[1;32m    211\u001b[0m \u001b[0;34m\u001b[0m\u001b[0m\n\u001b[0;32m--> 212\u001b[0;31m     \u001b[0;32mreturn\u001b[0m \u001b[0murllib\u001b[0m\u001b[0;34m.\u001b[0m\u001b[0mrequest\u001b[0m\u001b[0;34m.\u001b[0m\u001b[0murlopen\u001b[0m\u001b[0;34m(\u001b[0m\u001b[0;34m*\u001b[0m\u001b[0margs\u001b[0m\u001b[0;34m,\u001b[0m \u001b[0;34m**\u001b[0m\u001b[0mkwargs\u001b[0m\u001b[0;34m)\u001b[0m\u001b[0;34m\u001b[0m\u001b[0;34m\u001b[0m\u001b[0m\n\u001b[0m\u001b[1;32m    213\u001b[0m \u001b[0;34m\u001b[0m\u001b[0m\n\u001b[1;32m    214\u001b[0m \u001b[0;34m\u001b[0m\u001b[0m\n",
      "\u001b[0;32m/opt/anaconda3/lib/python3.8/urllib/request.py\u001b[0m in \u001b[0;36murlopen\u001b[0;34m(url, data, timeout, cafile, capath, cadefault, context)\u001b[0m\n\u001b[1;32m    220\u001b[0m     \u001b[0;32melse\u001b[0m\u001b[0;34m:\u001b[0m\u001b[0;34m\u001b[0m\u001b[0;34m\u001b[0m\u001b[0m\n\u001b[1;32m    221\u001b[0m         \u001b[0mopener\u001b[0m \u001b[0;34m=\u001b[0m \u001b[0m_opener\u001b[0m\u001b[0;34m\u001b[0m\u001b[0;34m\u001b[0m\u001b[0m\n\u001b[0;32m--> 222\u001b[0;31m     \u001b[0;32mreturn\u001b[0m \u001b[0mopener\u001b[0m\u001b[0;34m.\u001b[0m\u001b[0mopen\u001b[0m\u001b[0;34m(\u001b[0m\u001b[0murl\u001b[0m\u001b[0;34m,\u001b[0m \u001b[0mdata\u001b[0m\u001b[0;34m,\u001b[0m \u001b[0mtimeout\u001b[0m\u001b[0;34m)\u001b[0m\u001b[0;34m\u001b[0m\u001b[0;34m\u001b[0m\u001b[0m\n\u001b[0m\u001b[1;32m    223\u001b[0m \u001b[0;34m\u001b[0m\u001b[0m\n\u001b[1;32m    224\u001b[0m \u001b[0;32mdef\u001b[0m \u001b[0minstall_opener\u001b[0m\u001b[0;34m(\u001b[0m\u001b[0mopener\u001b[0m\u001b[0;34m)\u001b[0m\u001b[0;34m:\u001b[0m\u001b[0;34m\u001b[0m\u001b[0;34m\u001b[0m\u001b[0m\n",
      "\u001b[0;32m/opt/anaconda3/lib/python3.8/urllib/request.py\u001b[0m in \u001b[0;36mopen\u001b[0;34m(self, fullurl, data, timeout)\u001b[0m\n\u001b[1;32m    529\u001b[0m         \u001b[0;32mfor\u001b[0m \u001b[0mprocessor\u001b[0m \u001b[0;32min\u001b[0m \u001b[0mself\u001b[0m\u001b[0;34m.\u001b[0m\u001b[0mprocess_response\u001b[0m\u001b[0;34m.\u001b[0m\u001b[0mget\u001b[0m\u001b[0;34m(\u001b[0m\u001b[0mprotocol\u001b[0m\u001b[0;34m,\u001b[0m \u001b[0;34m[\u001b[0m\u001b[0;34m]\u001b[0m\u001b[0;34m)\u001b[0m\u001b[0;34m:\u001b[0m\u001b[0;34m\u001b[0m\u001b[0;34m\u001b[0m\u001b[0m\n\u001b[1;32m    530\u001b[0m             \u001b[0mmeth\u001b[0m \u001b[0;34m=\u001b[0m \u001b[0mgetattr\u001b[0m\u001b[0;34m(\u001b[0m\u001b[0mprocessor\u001b[0m\u001b[0;34m,\u001b[0m \u001b[0mmeth_name\u001b[0m\u001b[0;34m)\u001b[0m\u001b[0;34m\u001b[0m\u001b[0;34m\u001b[0m\u001b[0m\n\u001b[0;32m--> 531\u001b[0;31m             \u001b[0mresponse\u001b[0m \u001b[0;34m=\u001b[0m \u001b[0mmeth\u001b[0m\u001b[0;34m(\u001b[0m\u001b[0mreq\u001b[0m\u001b[0;34m,\u001b[0m \u001b[0mresponse\u001b[0m\u001b[0;34m)\u001b[0m\u001b[0;34m\u001b[0m\u001b[0;34m\u001b[0m\u001b[0m\n\u001b[0m\u001b[1;32m    532\u001b[0m \u001b[0;34m\u001b[0m\u001b[0m\n\u001b[1;32m    533\u001b[0m         \u001b[0;32mreturn\u001b[0m \u001b[0mresponse\u001b[0m\u001b[0;34m\u001b[0m\u001b[0;34m\u001b[0m\u001b[0m\n",
      "\u001b[0;32m/opt/anaconda3/lib/python3.8/urllib/request.py\u001b[0m in \u001b[0;36mhttp_response\u001b[0;34m(self, request, response)\u001b[0m\n\u001b[1;32m    638\u001b[0m         \u001b[0;31m# request was successfully received, understood, and accepted.\u001b[0m\u001b[0;34m\u001b[0m\u001b[0;34m\u001b[0m\u001b[0;34m\u001b[0m\u001b[0m\n\u001b[1;32m    639\u001b[0m         \u001b[0;32mif\u001b[0m \u001b[0;32mnot\u001b[0m \u001b[0;34m(\u001b[0m\u001b[0;36m200\u001b[0m \u001b[0;34m<=\u001b[0m \u001b[0mcode\u001b[0m \u001b[0;34m<\u001b[0m \u001b[0;36m300\u001b[0m\u001b[0;34m)\u001b[0m\u001b[0;34m:\u001b[0m\u001b[0;34m\u001b[0m\u001b[0;34m\u001b[0m\u001b[0m\n\u001b[0;32m--> 640\u001b[0;31m             response = self.parent.error(\n\u001b[0m\u001b[1;32m    641\u001b[0m                 'http', request, response, code, msg, hdrs)\n\u001b[1;32m    642\u001b[0m \u001b[0;34m\u001b[0m\u001b[0m\n",
      "\u001b[0;32m/opt/anaconda3/lib/python3.8/urllib/request.py\u001b[0m in \u001b[0;36merror\u001b[0;34m(self, proto, *args)\u001b[0m\n\u001b[1;32m    567\u001b[0m         \u001b[0;32mif\u001b[0m \u001b[0mhttp_err\u001b[0m\u001b[0;34m:\u001b[0m\u001b[0;34m\u001b[0m\u001b[0;34m\u001b[0m\u001b[0m\n\u001b[1;32m    568\u001b[0m             \u001b[0margs\u001b[0m \u001b[0;34m=\u001b[0m \u001b[0;34m(\u001b[0m\u001b[0mdict\u001b[0m\u001b[0;34m,\u001b[0m \u001b[0;34m'default'\u001b[0m\u001b[0;34m,\u001b[0m \u001b[0;34m'http_error_default'\u001b[0m\u001b[0;34m)\u001b[0m \u001b[0;34m+\u001b[0m \u001b[0morig_args\u001b[0m\u001b[0;34m\u001b[0m\u001b[0;34m\u001b[0m\u001b[0m\n\u001b[0;32m--> 569\u001b[0;31m             \u001b[0;32mreturn\u001b[0m \u001b[0mself\u001b[0m\u001b[0;34m.\u001b[0m\u001b[0m_call_chain\u001b[0m\u001b[0;34m(\u001b[0m\u001b[0;34m*\u001b[0m\u001b[0margs\u001b[0m\u001b[0;34m)\u001b[0m\u001b[0;34m\u001b[0m\u001b[0;34m\u001b[0m\u001b[0m\n\u001b[0m\u001b[1;32m    570\u001b[0m \u001b[0;34m\u001b[0m\u001b[0m\n\u001b[1;32m    571\u001b[0m \u001b[0;31m# XXX probably also want an abstract factory that knows when it makes\u001b[0m\u001b[0;34m\u001b[0m\u001b[0;34m\u001b[0m\u001b[0;34m\u001b[0m\u001b[0m\n",
      "\u001b[0;32m/opt/anaconda3/lib/python3.8/urllib/request.py\u001b[0m in \u001b[0;36m_call_chain\u001b[0;34m(self, chain, kind, meth_name, *args)\u001b[0m\n\u001b[1;32m    500\u001b[0m         \u001b[0;32mfor\u001b[0m \u001b[0mhandler\u001b[0m \u001b[0;32min\u001b[0m \u001b[0mhandlers\u001b[0m\u001b[0;34m:\u001b[0m\u001b[0;34m\u001b[0m\u001b[0;34m\u001b[0m\u001b[0m\n\u001b[1;32m    501\u001b[0m             \u001b[0mfunc\u001b[0m \u001b[0;34m=\u001b[0m \u001b[0mgetattr\u001b[0m\u001b[0;34m(\u001b[0m\u001b[0mhandler\u001b[0m\u001b[0;34m,\u001b[0m \u001b[0mmeth_name\u001b[0m\u001b[0;34m)\u001b[0m\u001b[0;34m\u001b[0m\u001b[0;34m\u001b[0m\u001b[0m\n\u001b[0;32m--> 502\u001b[0;31m             \u001b[0mresult\u001b[0m \u001b[0;34m=\u001b[0m \u001b[0mfunc\u001b[0m\u001b[0;34m(\u001b[0m\u001b[0;34m*\u001b[0m\u001b[0margs\u001b[0m\u001b[0;34m)\u001b[0m\u001b[0;34m\u001b[0m\u001b[0;34m\u001b[0m\u001b[0m\n\u001b[0m\u001b[1;32m    503\u001b[0m             \u001b[0;32mif\u001b[0m \u001b[0mresult\u001b[0m \u001b[0;32mis\u001b[0m \u001b[0;32mnot\u001b[0m \u001b[0;32mNone\u001b[0m\u001b[0;34m:\u001b[0m\u001b[0;34m\u001b[0m\u001b[0;34m\u001b[0m\u001b[0m\n\u001b[1;32m    504\u001b[0m                 \u001b[0;32mreturn\u001b[0m \u001b[0mresult\u001b[0m\u001b[0;34m\u001b[0m\u001b[0;34m\u001b[0m\u001b[0m\n",
      "\u001b[0;32m/opt/anaconda3/lib/python3.8/urllib/request.py\u001b[0m in \u001b[0;36mhttp_error_default\u001b[0;34m(self, req, fp, code, msg, hdrs)\u001b[0m\n\u001b[1;32m    647\u001b[0m \u001b[0;32mclass\u001b[0m \u001b[0mHTTPDefaultErrorHandler\u001b[0m\u001b[0;34m(\u001b[0m\u001b[0mBaseHandler\u001b[0m\u001b[0;34m)\u001b[0m\u001b[0;34m:\u001b[0m\u001b[0;34m\u001b[0m\u001b[0;34m\u001b[0m\u001b[0m\n\u001b[1;32m    648\u001b[0m     \u001b[0;32mdef\u001b[0m \u001b[0mhttp_error_default\u001b[0m\u001b[0;34m(\u001b[0m\u001b[0mself\u001b[0m\u001b[0;34m,\u001b[0m \u001b[0mreq\u001b[0m\u001b[0;34m,\u001b[0m \u001b[0mfp\u001b[0m\u001b[0;34m,\u001b[0m \u001b[0mcode\u001b[0m\u001b[0;34m,\u001b[0m \u001b[0mmsg\u001b[0m\u001b[0;34m,\u001b[0m \u001b[0mhdrs\u001b[0m\u001b[0;34m)\u001b[0m\u001b[0;34m:\u001b[0m\u001b[0;34m\u001b[0m\u001b[0;34m\u001b[0m\u001b[0m\n\u001b[0;32m--> 649\u001b[0;31m         \u001b[0;32mraise\u001b[0m \u001b[0mHTTPError\u001b[0m\u001b[0;34m(\u001b[0m\u001b[0mreq\u001b[0m\u001b[0;34m.\u001b[0m\u001b[0mfull_url\u001b[0m\u001b[0;34m,\u001b[0m \u001b[0mcode\u001b[0m\u001b[0;34m,\u001b[0m \u001b[0mmsg\u001b[0m\u001b[0;34m,\u001b[0m \u001b[0mhdrs\u001b[0m\u001b[0;34m,\u001b[0m \u001b[0mfp\u001b[0m\u001b[0;34m)\u001b[0m\u001b[0;34m\u001b[0m\u001b[0;34m\u001b[0m\u001b[0m\n\u001b[0m\u001b[1;32m    650\u001b[0m \u001b[0;34m\u001b[0m\u001b[0m\n\u001b[1;32m    651\u001b[0m \u001b[0;32mclass\u001b[0m \u001b[0mHTTPRedirectHandler\u001b[0m\u001b[0;34m(\u001b[0m\u001b[0mBaseHandler\u001b[0m\u001b[0;34m)\u001b[0m\u001b[0;34m:\u001b[0m\u001b[0;34m\u001b[0m\u001b[0;34m\u001b[0m\u001b[0m\n",
      "\u001b[0;31mHTTPError\u001b[0m: HTTP Error 404: Not Found"
     ]
    }
   ],
   "source": [
    "#ERROR\n",
    "yahoo = pd.read_html('https://finance.yahoo.com/quote/TSLA/profile')\n",
    "yahoo"
   ]
  },
  {
   "cell_type": "code",
   "execution_count": 17,
   "id": "6169e5bc",
   "metadata": {},
   "outputs": [
    {
     "name": "stdout",
     "output_type": "stream",
     "text": [
      "                       Name                                        Title  \\\n",
      "0          Mr. Elon R. Musk          Technoking of Tesla, CEO & Director   \n",
      "1   Mr. Zachary J. Kirkhorn                         Master of Coin & CFO   \n",
      "2     Mr. Andrew D. Baglino    Sr. VP of Powertrain & Energy Engineering   \n",
      "3        Mr. Vaibhav Taneja  Corp. Controller & Chief Accounting Officer   \n",
      "4         Mr. Martin Viecha          Sr. Director for Investor Relations   \n",
      "5         Mr. Alan Prescott                                  VP of Legal   \n",
      "6           Mr. Dave Arnold        Sr. Director of Global Communications   \n",
      "7              Brian Scelfo                 Sr. Director of Corp. Devel.   \n",
      "8   Mr. Jeffrey B. Straubel                                  Sr. Advisor   \n",
      "9  Mr. Franz von Holzhausen                               Chief Designer   \n",
      "\n",
      "       Pay Exercised  Year Born  \n",
      "0      NaN       NaN     1972.0  \n",
      "1  300.76k     4.19M     1985.0  \n",
      "2  283.27k    14.86M     1981.0  \n",
      "3      NaN       NaN     1978.0  \n",
      "4      NaN       NaN        NaN  \n",
      "5      NaN       NaN        NaN  \n",
      "6      NaN       NaN        NaN  \n",
      "7      NaN       NaN        NaN  \n",
      "8      NaN       NaN     1976.0  \n",
      "9      NaN       NaN        NaN  \n"
     ]
    }
   ],
   "source": [
    "import pandas as pd\n",
    "import requests\n",
    "\n",
    "url_link = 'https://finance.yahoo.com/quote/TSLA/profile'\n",
    "r = requests.get(url_link,headers ={'User-Agent':'Mozilla/5.0 (Windows NT 10.0; Win64; x64) AppleWebKit/537.36 (KHTML, like Gecko) Chrome/91.0.4472.124 Safari/537.36'})\n",
    "\n",
    "data = pd.read_html(r.text)\n",
    "print(data[0])"
   ]
  },
  {
   "cell_type": "code",
   "execution_count": 18,
   "id": "4c50b4c6",
   "metadata": {},
   "outputs": [
    {
     "name": "stdout",
     "output_type": "stream",
     "text": [
      "  Earnings Estimate  Current Qtr. (Dec 2021)  Next Qtr. (Mar 2022)  \\\n",
      "0   No. of Analysts                    22.00                 10.00   \n",
      "1     Avg. Estimate                     1.92                  1.77   \n",
      "2      Low Estimate                     1.39                  1.38   \n",
      "3     High Estimate                     2.61                  2.38   \n",
      "4      Year Ago EPS                     0.80                  0.93   \n",
      "\n",
      "   Current Year (2021)  Next Year (2022)  \n",
      "0                31.00             30.00  \n",
      "1                 6.07              8.25  \n",
      "2                 4.30              5.94  \n",
      "3                 6.85             11.30  \n",
      "4                 2.24              6.07  \n"
     ]
    }
   ],
   "source": [
    "url_link = 'https://finance.yahoo.com/quote/TSLA/analysis?p=TSLA'\n",
    "r = requests.get(url_link,headers ={'User-Agent':'Mozilla/5.0 (Windows NT 10.0; Win64; x64) AppleWebKit/537.36 (KHTML, like Gecko) Chrome/91.0.4472.124 Safari/537.36'})\n",
    "\n",
    "data = pd.read_html(r.text)\n",
    "print(data[0])  \n"
   ]
  },
  {
   "cell_type": "code",
   "execution_count": 19,
   "id": "8061357b",
   "metadata": {},
   "outputs": [
    {
     "data": {
      "image/png": "[encoded data removed]",
      "text/plain": [
       "<Figure size 432x288 with 1 Axes>"
      ]
     },
     "metadata": {
      "needs_background": "light"
     },
     "output_type": "display_data"
    }
   ],
   "source": [
    "#Run the code to see the chart, showing the Avg. Estimate values from the table.\n",
    "import matplotlib.pyplot as plt\n",
    "\n",
    "url_link = 'https://finance.yahoo.com/quote/TSLA/analysis?p=TSLA'\n",
    "r = requests.get(url_link,headers ={'User-Agent':'Mozilla/5.0 (Windows NT 10.0; Win64; x64) AppleWebKit/537.36 (KHTML, like Gecko) Chrome/91.0.4472.124 Safari/537.36'})\n",
    "\n",
    "data = pd.read_html(r.text)\n",
    "data = data[0]\n",
    "data = data[data['Earnings Estimate'] == 'Avg. Estimate']\n",
    "\n",
    "data.plot(kind='bar')\n",
    "\n",
    "plt.savefig('plot.png')"
   ]
  },
  {
   "cell_type": "markdown",
   "id": "9e35a72c",
   "metadata": {},
   "source": [
    "# Yfinance "
   ]
  },
  {
   "cell_type": "code",
   "execution_count": 22,
   "id": "6636faf6",
   "metadata": {},
   "outputs": [],
   "source": [
    "#!pip install yfinance\n",
    "import yfinance as yf "
   ]
  },
  {
   "cell_type": "code",
   "execution_count": 25,
   "id": "632ba9d0",
   "metadata": {},
   "outputs": [
    {
     "name": "stdout",
     "output_type": "stream",
     "text": [
      "{'zip': '78725', 'sector': 'Consumer Cyclical', 'fullTimeEmployees': 70757, 'longBusinessSummary': 'Tesla, Inc. designs, develops, manufactures, leases, and sells electric vehicles, and energy generation and storage systems in the United States, China, and internationally. The company operates in two segments, Automotive, and Energy Generation and Storage. The Automotive segment offers electric vehicles, as well as sells automotive regulatory credits. It provides sedans and sport utility vehicles through direct and used vehicle sales, a network of Tesla Superchargers, and in-app upgrades; and purchase financing and leasing services. This segment is also involved in the provision of non-warranty after-sales vehicle services, sale of used vehicles, retail merchandise, and vehicle insurance, as well as sale of products through its subsidiaries to third party customers; services for electric vehicles through its company-owned service locations, and Tesla mobile service technicians; and vehicle limited warranties and extended service plans. The Energy Generation and Storage segment engages in the design, manufacture, installation, sale, and leasing of solar energy generation and energy storage products, and related services to residential, commercial, and industrial customers and utilities through its website, stores, and galleries, as well as through a network of channel partners. This segment also offers service and repairs to its energy product customers, including under warranty; and various financing options to its solar customers. The company was formerly known as Tesla Motors, Inc. and changed its name to Tesla, Inc. in February 2017. Tesla, Inc. was founded in 2003 and is headquartered in Austin, Texas.', 'city': 'Austin', 'phone': '650-681-5000', 'state': 'TX', 'country': 'United States', 'companyOfficers': [], 'website': 'https://www.tesla.com', 'maxAge': 1, 'address1': '13101 Harold Green Road', 'industry': 'Auto Manufacturers', 'ebitdaMargins': 0.15512, 'profitMargins': 0.07403, 'grossMargins': 0.23107, 'operatingCashflow': 9930999808, 'revenueGrowth': 0.568, 'operatingMargins': 0.09789, 'ebitda': 7266999808, 'targetLowPrice': 67, 'recommendationKey': 'hold', 'grossProfits': 6630000000, 'freeCashflow': 4644624896, 'targetMedianPrice': 950, 'currentPrice': 1067, 'earningsGrowth': 4.333, 'currentRatio': 1.385, 'returnOnAssets': 0.055370003, 'numberOfAnalystOpinions': 35, 'targetMeanPrice': 849.64, 'debtToEquity': 35.65, 'returnOnEquity': 0.15641, 'targetHighPrice': 1400, 'totalCash': 16094999552, 'totalDebt': 10158000128, 'totalRevenue': 46848000000, 'totalCashPerShare': 16.027, 'financialCurrency': 'USD', 'revenuePerShare': 48.272, 'quickRatio': 1.002, 'recommendationMean': 2.6, 'exchange': 'NMS', 'shortName': 'Tesla, Inc.', 'longName': 'Tesla, Inc.', 'exchangeTimezoneName': 'America/New_York', 'exchangeTimezoneShortName': 'EST', 'isEsgPopulated': False, 'gmtOffSetMilliseconds': '-18000000', 'quoteType': 'EQUITY', 'symbol': 'TSLA', 'messageBoardId': 'finmb_27444752', 'market': 'us_market', 'annualHoldingsTurnover': None, 'enterpriseToRevenue': 22.777, 'beta3Year': None, 'enterpriseToEbitda': 146.836, '52WeekChange': 0.6076783, 'morningStarRiskRating': None, 'forwardEps': 8.25, 'revenueQuarterlyGrowth': None, 'sharesOutstanding': 1004259968, 'fundInceptionDate': None, 'annualReportExpenseRatio': None, 'totalAssets': None, 'bookValue': 26.945, 'sharesShort': 26570674, 'sharesPercentSharesOut': 0.026500002, 'fundFamily': None, 'lastFiscalYearEnd': 1609372800, 'heldPercentInstitutions': 0.42422, 'netIncomeToCommon': 3468000000, 'trailingEps': 3.062, 'lastDividendValue': None, 'SandP52WeekChange': 0.26514983, 'priceToBook': 39.599182, 'heldPercentInsiders': 0.19781, 'nextFiscalYearEnd': 1672444800, 'yield': None, 'mostRecentQuarter': 1632960000, 'shortRatio': 0.86, 'sharesShortPreviousMonthDate': 1635465600, 'floatShares': 812098773, 'beta': 2.037922, 'enterpriseValue': 1067054596096, 'priceHint': 2, 'threeYearAverageReturn': None, 'lastSplitDate': 1598832000, 'lastSplitFactor': '5:1', 'legalType': None, 'lastDividendDate': None, 'morningStarOverallRating': None, 'earningsQuarterlyGrowth': 3.888, 'priceToSalesTrailing12Months': 22.87281, 'dateShortInterest': 1638230400, 'pegRatio': 2.12, 'ytdReturn': None, 'forwardPE': 129.33333, 'lastCapGain': None, 'shortPercentOfFloat': 0.0325, 'sharesShortPriorMonth': 28075921, 'impliedSharesOutstanding': None, 'category': None, 'fiveYearAverageReturn': None, 'previousClose': 1008.87, 'regularMarketOpen': 1006.8, 'twoHundredDayAverage': 772.21655, 'trailingAnnualDividendYield': None, 'payoutRatio': 0, 'volume24Hr': None, 'regularMarketDayHigh': 1072.93, 'navPrice': None, 'averageDailyVolume10Day': 26050090, 'regularMarketPreviousClose': 1008.87, 'fiftyDayAverage': 1037.8234, 'trailingAnnualDividendRate': None, 'open': 1006.8, 'toCurrency': None, 'averageVolume10days': 26050090, 'expireDate': None, 'algorithm': None, 'dividendRate': None, 'exDividendDate': None, 'circulatingSupply': None, 'startDate': None, 'regularMarketDayLow': 997.56, 'currency': 'USD', 'trailingPE': 348.46506, 'regularMarketVolume': 30456356, 'lastMarket': None, 'maxSupply': None, 'openInterest': None, 'marketCap': 1071545384960, 'volumeAllCurrencies': None, 'strikePrice': None, 'averageVolume': 26792165, 'dayLow': 997.56, 'ask': 1067, 'askSize': 1200, 'volume': 30456356, 'fiftyTwoWeekHigh': 1243.49, 'fromCurrency': None, 'fiveYearAvgDividendYield': None, 'fiftyTwoWeekLow': 539.49, 'bid': 1065.25, 'tradeable': False, 'dividendYield': None, 'bidSize': 1100, 'dayHigh': 1072.93, 'regularMarketPrice': 1067, 'preMarketPrice': None, 'logo_url': 'https://logo.clearbit.com/tesla.com'}\n"
     ]
    }
   ],
   "source": [
    "data = yf.Ticker(\"TSLA\")\n",
    "print(data.info)"
   ]
  },
  {
   "cell_type": "code",
   "execution_count": 26,
   "id": "816b1822",
   "metadata": {},
   "outputs": [
    {
     "name": "stdout",
     "output_type": "stream",
     "text": [
      "0.07403\n",
      "0.15641\n"
     ]
    }
   ],
   "source": [
    "print(data.info['profitMargins'])\n",
    "print(data.info['returnOnEquity'])"
   ]
  },
  {
   "cell_type": "code",
   "execution_count": 27,
   "id": "8043524e",
   "metadata": {},
   "outputs": [
    {
     "data": {
      "text/plain": [
       "dict_keys(['zip', 'sector', 'fullTimeEmployees', 'longBusinessSummary', 'city', 'phone', 'state', 'country', 'companyOfficers', 'website', 'maxAge', 'address1', 'industry', 'ebitdaMargins', 'profitMargins', 'grossMargins', 'operatingCashflow', 'revenueGrowth', 'operatingMargins', 'ebitda', 'targetLowPrice', 'recommendationKey', 'grossProfits', 'freeCashflow', 'targetMedianPrice', 'currentPrice', 'earningsGrowth', 'currentRatio', 'returnOnAssets', 'numberOfAnalystOpinions', 'targetMeanPrice', 'debtToEquity', 'returnOnEquity', 'targetHighPrice', 'totalCash', 'totalDebt', 'totalRevenue', 'totalCashPerShare', 'financialCurrency', 'revenuePerShare', 'quickRatio', 'recommendationMean', 'exchange', 'shortName', 'longName', 'exchangeTimezoneName', 'exchangeTimezoneShortName', 'isEsgPopulated', 'gmtOffSetMilliseconds', 'quoteType', 'symbol', 'messageBoardId', 'market', 'annualHoldingsTurnover', 'enterpriseToRevenue', 'beta3Year', 'enterpriseToEbitda', '52WeekChange', 'morningStarRiskRating', 'forwardEps', 'revenueQuarterlyGrowth', 'sharesOutstanding', 'fundInceptionDate', 'annualReportExpenseRatio', 'totalAssets', 'bookValue', 'sharesShort', 'sharesPercentSharesOut', 'fundFamily', 'lastFiscalYearEnd', 'heldPercentInstitutions', 'netIncomeToCommon', 'trailingEps', 'lastDividendValue', 'SandP52WeekChange', 'priceToBook', 'heldPercentInsiders', 'nextFiscalYearEnd', 'yield', 'mostRecentQuarter', 'shortRatio', 'sharesShortPreviousMonthDate', 'floatShares', 'beta', 'enterpriseValue', 'priceHint', 'threeYearAverageReturn', 'lastSplitDate', 'lastSplitFactor', 'legalType', 'lastDividendDate', 'morningStarOverallRating', 'earningsQuarterlyGrowth', 'priceToSalesTrailing12Months', 'dateShortInterest', 'pegRatio', 'ytdReturn', 'forwardPE', 'lastCapGain', 'shortPercentOfFloat', 'sharesShortPriorMonth', 'impliedSharesOutstanding', 'category', 'fiveYearAverageReturn', 'previousClose', 'regularMarketOpen', 'twoHundredDayAverage', 'trailingAnnualDividendYield', 'payoutRatio', 'volume24Hr', 'regularMarketDayHigh', 'navPrice', 'averageDailyVolume10Day', 'regularMarketPreviousClose', 'fiftyDayAverage', 'trailingAnnualDividendRate', 'open', 'toCurrency', 'averageVolume10days', 'expireDate', 'algorithm', 'dividendRate', 'exDividendDate', 'circulatingSupply', 'startDate', 'regularMarketDayLow', 'currency', 'trailingPE', 'regularMarketVolume', 'lastMarket', 'maxSupply', 'openInterest', 'marketCap', 'volumeAllCurrencies', 'strikePrice', 'averageVolume', 'dayLow', 'ask', 'askSize', 'volume', 'fiftyTwoWeekHigh', 'fromCurrency', 'fiveYearAvgDividendYield', 'fiftyTwoWeekLow', 'bid', 'tradeable', 'dividendYield', 'bidSize', 'dayHigh', 'regularMarketPrice', 'preMarketPrice', 'logo_url'])"
      ]
     },
     "execution_count": 27,
     "metadata": {},
     "output_type": "execute_result"
    }
   ],
   "source": [
    "data.info.keys()"
   ]
  },
  {
   "cell_type": "code",
   "execution_count": 32,
   "id": "b9b36ffe",
   "metadata": {},
   "outputs": [
    {
     "data": {
      "text/plain": [
       "yfinance.Ticker object <AMZ>"
      ]
     },
     "execution_count": 32,
     "metadata": {},
     "output_type": "execute_result"
    }
   ],
   "source": [
    "#ROE of amazon\n",
    "data = yf.Ticker(\"AMZ\")\n",
    "#print(data.info[\"returnOnEquity\"])-->Error\n",
    "data"
   ]
  },
  {
   "cell_type": "code",
   "execution_count": 33,
   "id": "94d0d2d3",
   "metadata": {},
   "outputs": [
    {
     "name": "stdout",
     "output_type": "stream",
     "text": [
      "Series([], Name: Dividends, dtype: int64)\n",
      "Date\n",
      "2020-08-31    5.0\n",
      "Name: Stock Splits, dtype: float64\n",
      "                             2020-12-31    2019-12-31    2018-12-31  \\\n",
      "Intangible Assets          3.130000e+08  3.390000e+08  2.820000e+08   \n",
      "Capital Surplus            2.726000e+10  1.273600e+10  1.024900e+10   \n",
      "Total Liab                 2.846900e+10  2.619900e+10  2.342700e+10   \n",
      "Total Stockholder Equity   2.222500e+10  6.618000e+09  4.923000e+09   \n",
      "Minority Interest          1.454000e+09  1.492000e+09  1.390000e+09   \n",
      "Other Current Liab         4.147000e+09  3.693000e+09  2.955000e+09   \n",
      "Total Assets               5.214800e+10  3.430900e+10  2.974000e+10   \n",
      "Common Stock               1.000000e+06  1.000000e+06           NaN   \n",
      "Other Current Assets       2.380000e+08  2.460000e+08  1.930000e+08   \n",
      "Retained Earnings         -5.399000e+09 -6.083000e+09 -5.318000e+09   \n",
      "Other Liab                 3.302000e+09  2.969000e+09  2.318000e+09   \n",
      "Good Will                  2.070000e+08  1.980000e+08  6.800000e+07   \n",
      "Treasury Stock             3.630000e+08 -3.600000e+07 -8.000000e+06   \n",
      "Other Assets               1.536000e+09  1.469000e+09  1.380000e+09   \n",
      "Cash                       1.938400e+10  6.268000e+09  3.686000e+09   \n",
      "Total Current Liabilities  1.424800e+10  1.066700e+10  9.993000e+09   \n",
      "Short Long Term Debt       1.758000e+09  1.399000e+09  2.284000e+09   \n",
      "Other Stockholder Equity   3.630000e+08 -3.600000e+07 -8.000000e+06   \n",
      "Property Plant Equipment   2.337500e+10  2.019900e+10  1.969100e+10   \n",
      "Total Current Assets       2.671700e+10  1.210300e+10  8.307000e+09   \n",
      "Net Tangible Assets        2.170500e+10  6.081000e+09  4.573000e+09   \n",
      "Net Receivables            1.903000e+09  1.324000e+09  9.490000e+08   \n",
      "Long Term Debt             8.571000e+09  1.037500e+10  8.461000e+09   \n",
      "Inventory                  4.101000e+09  3.552000e+09  3.113000e+09   \n",
      "Accounts Payable           6.051000e+09  3.771000e+09  3.405000e+09   \n",
      "Long Term Investments               NaN  1.000000e+06  1.200000e+07   \n",
      "\n",
      "                             2017-12-31  \n",
      "Intangible Assets          3.615020e+08  \n",
      "Capital Surplus            9.178024e+09  \n",
      "Total Liab                 2.302305e+10  \n",
      "Total Stockholder Equity   4.237242e+09  \n",
      "Minority Interest          1.395080e+09  \n",
      "Other Current Liab         3.098379e+09  \n",
      "Total Assets               2.865537e+10  \n",
      "Common Stock               1.690000e+05  \n",
      "Other Current Assets       1.553230e+08  \n",
      "Retained Earnings         -4.974299e+09  \n",
      "Other Liab                 4.196294e+09  \n",
      "Good Will                  6.023700e+07  \n",
      "Treasury Stock             3.334800e+07  \n",
      "Other Assets               1.166193e+09  \n",
      "Cash                       3.367914e+09  \n",
      "Total Current Liabilities  7.674740e+09  \n",
      "Short Long Term Debt       9.639320e+08  \n",
      "Other Stockholder Equity   3.334800e+07  \n",
      "Property Plant Equipment   2.049162e+10  \n",
      "Total Current Assets       6.570520e+09  \n",
      "Net Tangible Assets        3.815503e+09  \n",
      "Net Receivables            5.153810e+08  \n",
      "Long Term Debt             9.486248e+09  \n",
      "Inventory                  2.263537e+09  \n",
      "Accounts Payable           2.390250e+09  \n",
      "Long Term Investments      5.304000e+06  \n",
      "                                             2020-12-31    2019-12-31  \\\n",
      "Change To Liabilities                      2.423000e+09  1.447000e+09   \n",
      "Total Cashflows From Investing Activities -3.132000e+09 -1.436000e+09   \n",
      "Net Borrowings                            -2.488000e+09  7.980000e+08   \n",
      "Total Cash From Financing Activities       9.973000e+09  1.529000e+09   \n",
      "Change To Operating Activities            -1.165000e+09 -1.000000e+09   \n",
      "Issuance Of Stock                          1.268600e+10  1.111000e+09   \n",
      "Net Income                                 7.210000e+08 -8.620000e+08   \n",
      "Change In Cash                             1.311800e+10  2.506000e+09   \n",
      "Effect Of Exchange Rate                    3.340000e+08  8.000000e+06   \n",
      "Total Cash From Operating Activities       5.943000e+09  2.405000e+09   \n",
      "Depreciation                               2.322000e+09  2.092000e+09   \n",
      "Other Cashflows From Investing Activities  1.230000e+08  4.600000e+07   \n",
      "Change To Inventory                       -4.220000e+08 -4.290000e+08   \n",
      "Change To Account Receivables             -6.520000e+08 -3.670000e+08   \n",
      "Other Cashflows From Financing Activities -2.250000e+08 -3.800000e+08   \n",
      "Change To Netincome                        2.536000e+09  1.336000e+09   \n",
      "Capital Expenditures                      -3.232000e+09 -1.432000e+09   \n",
      "\n",
      "                                             2018-12-31    2017-12-31  \n",
      "Change To Liabilities                      2.203000e+09  8.570000e+08  \n",
      "Total Cashflows From Investing Activities -2.337000e+09 -4.196000e+09  \n",
      "Net Borrowings                             8.900000e+07  3.385000e+09  \n",
      "Total Cash From Financing Activities       5.740000e+08  4.415000e+09  \n",
      "Change To Operating Activities            -6.250000e+08 -1.150000e+09  \n",
      "Issuance Of Stock                          2.960000e+08  6.590000e+08  \n",
      "Net Income                                -9.760000e+08 -1.962000e+09  \n",
      "Change In Cash                             3.120000e+08  1.980000e+08  \n",
      "Effect Of Exchange Rate                   -2.300000e+07  4.000000e+07  \n",
      "Total Cash From Operating Activities       2.098000e+09 -6.100000e+07  \n",
      "Depreciation                               1.888000e+09  1.636000e+09  \n",
      "Other Cashflows From Investing Activities  4.600000e+07  4.600000e+07  \n",
      "Change To Inventory                       -1.023000e+09 -1.790000e+08  \n",
      "Change To Account Receivables             -4.970000e+08 -2.500000e+07  \n",
      "Other Cashflows From Financing Activities  1.890000e+08  3.710000e+08  \n",
      "Change To Netincome                        9.690000e+08  6.710000e+08  \n",
      "Capital Expenditures                      -2.319000e+09 -4.081000e+09  \n",
      "          Revenue    Earnings\n",
      "Year                         \n",
      "2017  11759000000 -1962000000\n",
      "2018  21461000000  -976000000\n",
      "2019  24578000000  -862000000\n",
      "2020  31536000000   721000000\n"
     ]
    }
   ],
   "source": [
    "import yfinance as yf\n",
    "\n",
    "data = yf.Ticker(\"TSLA\")\n",
    "\n",
    "# show dividends\n",
    "print(data.dividends)\n",
    "\n",
    "# show splits\n",
    "print(data.splits)\n",
    "\n",
    "# show balance sheet\n",
    "print(data.balance_sheet)\n",
    "\n",
    "# show cashflow\n",
    "print(data.cashflow)\n",
    "\n",
    "# show earnings\n",
    "print(data.earnings)"
   ]
  },
  {
   "cell_type": "code",
   "execution_count": 34,
   "id": "ce3a214f",
   "metadata": {},
   "outputs": [
    {
     "name": "stdout",
     "output_type": "stream",
     "text": [
      "          Revenue    Earnings\n",
      "Year                         \n",
      "2017  11759000000 -1962000000\n",
      "2018  21461000000  -976000000\n",
      "2019  24578000000  -862000000\n",
      "2020  31536000000   721000000\n"
     ]
    },
    {
     "data": {
      "image/png": "[encoded data removed]",
      "text/plain": [
       "<Figure size 432x288 with 1 Axes>"
      ]
     },
     "metadata": {
      "needs_background": "light"
     },
     "output_type": "display_data"
    }
   ],
   "source": [
    "x = data.earnings\n",
    "print(x)\n",
    "\n",
    "x.plot(kind=\"bar\")\n",
    "plt.savefig('plot.png')\n"
   ]
  },
  {
   "cell_type": "code",
   "execution_count": 35,
   "id": "1d598d41",
   "metadata": {},
   "outputs": [
    {
     "name": "stdout",
     "output_type": "stream",
     "text": [
      "                                    Firm        To Grade From Grade Action\n",
      "Date                                                                      \n",
      "2021-06-14 13:55:22    Canaccord Genuity             Buy              main\n",
      "2021-06-29 11:29:11                  UBS         Neutral              main\n",
      "2021-07-07 14:52:52            JP Morgan     Underweight              main\n",
      "2021-07-27 10:54:46               Mizuho             Buy              main\n",
      "2021-07-27 11:48:23          Wells Fargo    Equal-Weight              main\n",
      "2021-07-27 11:51:22          RBC Capital  Sector Perform              main\n",
      "2021-07-27 13:38:59        Goldman Sachs             Buy              main\n",
      "2021-07-27 14:27:49    Canaccord Genuity             Buy              main\n",
      "2021-07-29 10:14:50              DZ Bank             Buy       Sell     up\n",
      "2021-08-02 15:55:02       KGI Securities      Outperform              init\n",
      "2021-08-09 09:17:02            Jefferies             Buy       Hold     up\n",
      "2021-09-23 12:18:35      Tudor Pickering            Sell              init\n",
      "2021-10-04 10:44:57          RBC Capital  Sector Perform              main\n",
      "2021-10-08 13:28:13    Canaccord Genuity             Buy              main\n",
      "2021-10-14 10:45:16             Barclays     Underweight              main\n",
      "2021-10-15 13:26:02            Jefferies             Buy              main\n",
      "2021-10-21 10:21:59              Wedbush      Outperform              main\n",
      "2021-10-21 11:06:18        Credit Suisse         Neutral              main\n",
      "2021-10-21 11:07:12          Wells Fargo    Equal-Weight              main\n",
      "2021-10-21 11:58:01          RBC Capital  Sector Perform              main\n",
      "2021-10-21 12:42:25               Mizuho             Buy              main\n",
      "2021-10-21 14:23:55         Roth Capital         Neutral              main\n",
      "2021-10-21 14:33:04    Canaccord Genuity             Buy              main\n",
      "2021-10-27 12:15:11        Goldman Sachs             Buy              main\n",
      "2021-10-28 14:15:36        Piper Sandler      Overweight              main\n",
      "2021-11-08 12:27:21            Jefferies             Buy              main\n",
      "2021-11-19 11:55:04              Wedbush      Outperform              main\n",
      "2021-12-07 13:03:07                  UBS         Neutral              main\n",
      "2021-12-08 14:08:29  New Street Research             Buy              main\n",
      "2021-12-20 12:18:04           Guggenheim         Neutral              init\n"
     ]
    }
   ],
   "source": [
    "##\n",
    "import yfinance as yf\n",
    "\n",
    "data = yf.Ticker(\"TSLA\")\n",
    "\n",
    "x = data.recommendations\n",
    "x = x[x.index > '2021-06-01']\n",
    "print(x)"
   ]
  },
  {
   "cell_type": "code",
   "execution_count": 36,
   "id": "93f5a246",
   "metadata": {},
   "outputs": [
    {
     "name": "stdout",
     "output_type": "stream",
     "text": [
      "Apple Inc. : 1.47443\n",
      "Microsoft Corporation : 0.49303\n"
     ]
    }
   ],
   "source": [
    "##Let's apply what we've learned: create a function that will take a ticker as its parameter,\n",
    "#and output the ROE value for that ticker.\n",
    "#This will allow you to compare the ROE values of different companies:\n",
    "import yfinance as yf\n",
    "\n",
    "def RoE(ticker):\n",
    "  data = yf.Ticker(ticker)\n",
    "  roe = data.info['returnOnEquity']\n",
    "  name = data.info['shortName']\n",
    "  print(name, \":\", roe)\n",
    "    \n",
    "\n",
    "RoE('AAPL')\n",
    "RoE('MSFT')"
   ]
  },
  {
   "cell_type": "code",
   "execution_count": 39,
   "id": "3c22bb88",
   "metadata": {},
   "outputs": [
    {
     "name": "stdout",
     "output_type": "stream",
     "text": [
      "                   Open         High         Low        Close    Volume  \\\n",
      "Date                                                                      \n",
      "2021-12-17   914.770020   960.659973  909.039978   932.570007  33479100   \n",
      "2021-12-20   910.700012   921.690002  893.390015   899.940002  18826700   \n",
      "2021-12-21   916.869995   939.500000  886.119995   938.530029  23839300   \n",
      "2021-12-22   965.659973  1015.659973  957.049988  1008.869995  31211400   \n",
      "2021-12-23  1006.799988  1072.979980  997.559998  1067.000000  30841900   \n",
      "\n",
      "            Dividends  Stock Splits  \n",
      "Date                                 \n",
      "2021-12-17          0             0  \n",
      "2021-12-20          0             0  \n",
      "2021-12-21          0             0  \n",
      "2021-12-22          0             0  \n",
      "2021-12-23          0             0  \n"
     ]
    }
   ],
   "source": [
    "###This will output the stock prices for the last month.\n",
    "\n",
    "#We can provide a period parameter:\n",
    "#Valid periods: 1d, 5d, 1mo, 3mo, 6mo, 1y, 2y, 5y, 10y, ytd, max.\n",
    "\n",
    "\n",
    "import yfinance as yf\n",
    "data = yf.Ticker('TSLA')\n",
    "print(data.history(period='5d'))"
   ]
  },
  {
   "cell_type": "code",
   "execution_count": 38,
   "id": "4405e568",
   "metadata": {},
   "outputs": [
    {
     "name": "stdout",
     "output_type": "stream",
     "text": [
      "                  Open        High         Low       Close    Volume  \\\n",
      "Date                                                                   \n",
      "2020-12-31  699.989990  718.719971  691.119995  705.669983  49649900   \n",
      "2021-01-04  719.460022  744.489990  717.190002  729.770020  48638200   \n",
      "2021-01-05  723.659973  740.840027  719.200012  735.109985  32245200   \n",
      "2021-01-06  758.489990  774.000000  749.099976  755.979980  44700000   \n",
      "2021-01-07  777.630005  816.989990  775.200012  816.039978  51498900   \n",
      "...                ...         ...         ...         ...       ...   \n",
      "2021-06-23  632.000000  657.200012  630.039978  656.570007  31099200   \n",
      "2021-06-24  674.989990  697.619995  667.609985  679.820007  45982400   \n",
      "2021-06-25  689.580017  693.809998  668.700012  671.869995  32496700   \n",
      "2021-06-28  671.640015  694.700012  670.320007  688.719971  21628200   \n",
      "2021-06-29  684.650024  687.510010  675.890015  680.760010  17381300   \n",
      "\n",
      "            Dividends  Stock Splits  \n",
      "Date                                 \n",
      "2020-12-31          0             0  \n",
      "2021-01-04          0             0  \n",
      "2021-01-05          0             0  \n",
      "2021-01-06          0             0  \n",
      "2021-01-07          0             0  \n",
      "...               ...           ...  \n",
      "2021-06-23          0             0  \n",
      "2021-06-24          0             0  \n",
      "2021-06-25          0             0  \n",
      "2021-06-28          0             0  \n",
      "2021-06-29          0             0  \n",
      "\n",
      "[124 rows x 7 columns]\n"
     ]
    }
   ],
   "source": [
    "\n",
    "#We can also provide custom start and end dates:\n",
    "print(data.history(start=\"2021-01-01\", end=\"2021-06-30\"))\n"
   ]
  },
  {
   "cell_type": "code",
   "execution_count": 41,
   "id": "8a91e8b3",
   "metadata": {},
   "outputs": [
    {
     "data": {
      "image/png": "[encoded data removed]",
      "text/plain": [
       "<Figure size 432x288 with 1 Axes>"
      ]
     },
     "metadata": {
      "needs_background": "light"
     },
     "output_type": "display_data"
    }
   ],
   "source": [
    "##Let's plot the daily Close price of Tesla stock for the last month:\n",
    "import yfinance as yf\n",
    "import matplotlib.pyplot as plt\n",
    "\n",
    "data = yf.Ticker('TSLA')\n",
    "\n",
    "x = data.history()['Close']\n",
    "x.plot()\n",
    "\n",
    "plt.savefig('plot.png')"
   ]
  },
  {
   "cell_type": "code",
   "execution_count": 42,
   "id": "d402685d",
   "metadata": {},
   "outputs": [
    {
     "name": "stdout",
     "output_type": "stream",
     "text": [
      "[*********************100%***********************]  3 of 3 completed\n",
      "                  AAPL        MSFT         TSLA\n",
      "Date                                           \n",
      "2020-12-31  132.690002  222.419998   705.669983\n",
      "2021-01-04  129.410004  217.690002   729.770020\n",
      "2021-01-05  131.009995  217.899994   735.109985\n",
      "2021-01-06  126.599998  212.250000   755.979980\n",
      "2021-01-07  130.919998  218.289993   816.039978\n",
      "...                ...         ...          ...\n",
      "2021-12-17  171.139999  323.799988   932.570007\n",
      "2021-12-20  169.750000  319.910004   899.940002\n",
      "2021-12-21  172.990005  327.290009   938.530029\n",
      "2021-12-22  175.639999  333.200012  1008.869995\n",
      "2021-12-23  176.279999  334.690002  1067.000000\n",
      "\n",
      "[248 rows x 3 columns]\n"
     ]
    }
   ],
   "source": [
    "####\n",
    "#In addition, yfinance allows you to download historical prices for more than one stock simultaneously.\n",
    "#For example, let's take the stock prices of Apple, Microsoft and Tesla with one line:\n",
    "\n",
    "data = yf.download(\"AAPL MSFT TSLA\", start='2021-01-01') \n",
    "print(data['Close'])"
   ]
  },
  {
   "cell_type": "code",
   "execution_count": 43,
   "id": "056f3c22",
   "metadata": {},
   "outputs": [
    {
     "name": "stdout",
     "output_type": "stream",
     "text": [
      "[*********************100%***********************]  3 of 3 completed\n"
     ]
    },
    {
     "data": {
      "image/png": "[encoded data removed]",
      "text/plain": [
       "<Figure size 432x288 with 1 Axes>"
      ]
     },
     "metadata": {
      "needs_background": "light"
     },
     "output_type": "display_data"
    }
   ],
   "source": [
    "data = yf.download(\"AAPL MSFT TSLA\", start='2021-01-01') \n",
    "data['Close'].plot()\n",
    "\n",
    "plt.savefig('plot.png')"
   ]
  },
  {
   "cell_type": "code",
   "execution_count": null,
   "id": "1215f8bd",
   "metadata": {},
   "outputs": [],
   "source": []
  }
 ],
 "metadata": {
  "kernelspec": {
   "display_name": "Python 3",
   "language": "python",
   "name": "python3"
  },
  "language_info": {
   "codemirror_mode": {
    "name": "ipython",
    "version": 3
   },
   "file_extension": ".py",
   "mimetype": "text/x-python",
   "name": "python",
   "nbconvert_exporter": "python",
   "pygments_lexer": "ipython3",
   "version": "3.8.8"
  }
 },
 "nbformat": 4,
 "nbformat_minor": 5
}
