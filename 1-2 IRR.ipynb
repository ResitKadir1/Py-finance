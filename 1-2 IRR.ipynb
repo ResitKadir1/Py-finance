{
 "cells": [
  {
   "cell_type": "markdown",
   "id": "15169c4d",
   "metadata": {},
   "source": [
    "# IRR (Internal Rate of Return )"
   ]
  },
  {
   "cell_type": "markdown",
   "id": "bd55fde1",
   "metadata": {},
   "source": [
    "Numpy Financial has an <span style=\"color:red\">irr()</span> function, used to calculate the IRR (Internal Rate of Return).\n",
    "\n",
    "##### Let's assume we invested 5000 and got the following payments back: 500, 700, 1000, 3000.\n",
    "To calculate the IRR, we first need to declare an array with the values, with the first value being our initial investment:"
   ]
  },
  {
   "cell_type": "code",
   "execution_count": 2,
   "id": "7da00cb5",
   "metadata": {},
   "outputs": [
    {
     "data": {
      "text/plain": [
       "0.012164656866492818"
      ]
     },
     "execution_count": 2,
     "metadata": {},
     "output_type": "execute_result"
    }
   ],
   "source": [
    "import numpy_financial as npf\n",
    "cashflow = [-5000, 500, 700, 1000, 3000]\n",
    "npf.irr(cashflow)"
   ]
  },
  {
   "cell_type": "markdown",
   "id": "a32ec2fd",
   "metadata": {},
   "source": [
    "### Comparing IRR"
   ]
  },
  {
   "cell_type": "markdown",
   "id": "ab9fa1c3",
   "metadata": {},
   "source": [
    "Let's use the irr() function to compare two investment opportunities and decide which one is better.\n",
    "\n",
    "<span style=\"color:red\">Option 1:</span>\n",
    "Requires 50K in investment\n",
    "Will pay 10K, 25K, 25K, 35K, 42K each year for the next 5 years.\n",
    "\n",
    "<span style=\"color:red\">Option 2:</span>\n",
    "Requires 30K in investment\n",
    "Will pay 10K, 13K, 18K, 25K, 20K each year for the next 5 years.\n",
    "\n",
    "Let's calculate the IRR for each investment and compare:"
   ]
  },
  {
   "cell_type": "code",
   "execution_count": 3,
   "id": "30a4253a",
   "metadata": {},
   "outputs": [
    {
     "name": "stdout",
     "output_type": "stream",
     "text": [
      "Option 1:  0.3605982754620045\n",
      "Option 2:  0.4094208743397143\n"
     ]
    }
   ],
   "source": [
    "import numpy_financial as npf\n",
    "\n",
    "cf1 = [-50000, 10000, 25000, 25000, 35000, 42000]\n",
    "cf2 = [-30000, 10000, 13000, 18000, 25000, 20000]\n",
    "\n",
    "print(\"Option 1: \", npf.irr(cf1))\n",
    "print(\"Option 2: \", npf.irr(cf2)) "
   ]
  },
  {
   "cell_type": "code",
   "execution_count": 4,
   "id": "d397e5a3",
   "metadata": {},
   "outputs": [
    {
     "name": "stdout",
     "output_type": "stream",
     "text": [
      "0.0\n"
     ]
    }
   ],
   "source": [
    "import numpy_financial as npf\n",
    "cf = [-1, 1]\n",
    "print(npf.irr(cf))"
   ]
  },
  {
   "cell_type": "code",
   "execution_count": 5,
   "id": "0913d1da",
   "metadata": {},
   "outputs": [
    {
     "data": {
      "image/png": "[encoded data removed]",
      "text/plain": [
       "<Figure size 432x288 with 1 Axes>"
      ]
     },
     "metadata": {
      "needs_background": "light"
     },
     "output_type": "display_data"
    }
   ],
   "source": [
    "import matplotlib.pyplot as plt\n",
    "\n",
    "rev = [18000, 25000, 20000, 45000, 32000]\n",
    "months = ['June', 'July', 'August', 'September', 'October']\n",
    "plt.plot(months, rev)\n",
    "plt.savefig('plot.png')"
   ]
  },
  {
   "cell_type": "code",
   "execution_count": 6,
   "id": "f15faee0",
   "metadata": {},
   "outputs": [
    {
     "name": "stdout",
     "output_type": "stream",
     "text": [
      "100.0\n"
     ]
    },
    {
     "name": "stderr",
     "output_type": "stream",
     "text": [
      "/opt/anaconda3/lib/python3.8/site-packages/numpy_financial/_financial.py:130: RuntimeWarning: invalid value encountered in long_scalars\n",
      "  (1 + rate*when)*(temp - 1)/rate)\n"
     ]
    }
   ],
   "source": [
    "##Q-1\n",
    "import numpy_financial as npf\n",
    "print(npf.fv(rate=0, nper=3, pmt=0, pv=-100))"
   ]
  },
  {
   "cell_type": "markdown",
   "id": "75a3b7ee",
   "metadata": {},
   "source": [
    "### Q-2\n",
    "Fill in the blanks(X) to calculate and output the IRR of an investment of 5000, which returns the following amounts annually: 2000, 4000, 3000."
   ]
  },
  {
   "cell_type": "code",
   "execution_count": 67,
   "id": "22a9f4a0",
   "metadata": {},
   "outputs": [
    {
     "name": "stdout",
     "output_type": "stream",
     "text": [
      "0.3354653622982784\n"
     ]
    }
   ],
   "source": [
    "X = -5000\n",
    "arr = [X, 2000, 4000, 3000]\n",
    "\n",
    "res = npf.irr(arr)\n",
    "\n",
    "print(res)"
   ]
  },
  {
   "cell_type": "code",
   "execution_count": 50,
   "id": "e7a8037c",
   "metadata": {},
   "outputs": [
    {
     "name": "stdout",
     "output_type": "stream",
     "text": [
      "100.0\n"
     ]
    }
   ],
   "source": [
    "#What is the output of this code?\n",
    "\n",
    "import numpy_financial as npf\n",
    "print(npf.fv(rate=0, nper=3, pmt=0, pv=-100))\n",
    "\n"
   ]
  },
  {
   "cell_type": "markdown",
   "id": "08e2ba22",
   "metadata": {},
   "source": [
    "#### Q-3\n",
    " Calculate the monthly deposits required to achieve $50K in 5 years, with an annual interest rate of 10%."
   ]
  },
  {
   "cell_type": "code",
   "execution_count": 68,
   "id": "ff05770d",
   "metadata": {},
   "outputs": [
    {
     "data": {
      "text/plain": [
       "-645.6855688967499"
      ]
     },
     "execution_count": 68,
     "metadata": {},
     "output_type": "execute_result"
    }
   ],
   "source": [
    "npf.pmt(rate=0.10/12, nper=5*12, pv=0, fv=50000)"
   ]
  },
  {
   "cell_type": "code",
   "execution_count": null,
   "id": "27d2701d",
   "metadata": {},
   "outputs": [],
   "source": []
  }
 ],
 "metadata": {
  "kernelspec": {
   "display_name": "Python 3",
   "language": "python",
   "name": "python3"
  },
  "language_info": {
   "codemirror_mode": {
    "name": "ipython",
    "version": 3
   },
   "file_extension": ".py",
   "mimetype": "text/x-python",
   "name": "python",
   "nbconvert_exporter": "python",
   "pygments_lexer": "ipython3",
   "version": "3.8.8"
  }
 },
 "nbformat": 4,
 "nbformat_minor": 5
}
